{
 "cells": [
  {
   "cell_type": "code",
   "execution_count": 66,
   "id": "a88c3d04-63f6-494f-b2a2-f7197961d7be",
   "metadata": {},
   "outputs": [],
   "source": [
    "import pandas as pd\n",
    "\n",
    "df = pd.read_excel(\"data/slovarozhegova.xlsx\")\n",
    "\n",
    "df['Слово'] = df['Слово'].str.replace(' ', 'Е')\n",
    "df['Слово'] = df['Слово'].str.lower()\n",
    "df = df[df['Слово'].str.match(r'^[а-яА-Я]+$')]\n",
    "df = df.drop_duplicates(subset=['Слово'])\n",
    "\n",
    "df['Длина'] = df['Слово'].apply(len)\n",
    "\n",
    "df_5_letters = df[df['Длина'] == 5]\n",
    "df_5_letters.to_excel('data/df_5_letters.xlsx')"
   ]
  }
 ],
 "metadata": {
  "kernelspec": {
   "display_name": "Python 3 (ipykernel)",
   "language": "python",
   "name": "python3"
  },
  "language_info": {
   "codemirror_mode": {
    "name": "ipython",
    "version": 3
   },
   "file_extension": ".py",
   "mimetype": "text/x-python",
   "name": "python",
   "nbconvert_exporter": "python",
   "pygments_lexer": "ipython3",
   "version": "3.12.0"
  }
 },
 "nbformat": 4,
 "nbformat_minor": 5
}
