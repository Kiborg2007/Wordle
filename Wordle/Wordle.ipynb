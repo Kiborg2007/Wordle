{
 "cells": [
  {
   "cell_type": "code",
   "execution_count": 9,
   "id": "f57b31e3-7a9a-4a33-959b-89d19c218f76",
   "metadata": {
    "editable": true,
    "slideshow": {
     "slide_type": ""
    },
    "tags": []
   },
   "outputs": [
    {
     "name": "stdout",
     "output_type": "stream",
     "text": [
      "Добро пожаловать в игру Wordle!\n",
      "Угадайте слово из 5 букв (вы можете делать 6 попыток).\n"
     ]
    },
    {
     "name": "stdin",
     "output_type": "stream",
     "text": [
      "Попытка 1:  рынок\n"
     ]
    },
    {
     "name": "stdout",
     "output_type": "stream",
     "text": [
      "🟩🟥🟩🟨🟥\n"
     ]
    },
    {
     "name": "stdin",
     "output_type": "stream",
     "text": [
      "Попытка 2:  рента\n"
     ]
    },
    {
     "name": "stdout",
     "output_type": "stream",
     "text": [
      "🟩🟥🟩🟥🟨\n"
     ]
    },
    {
     "name": "stdin",
     "output_type": "stream",
     "text": [
      "Попытка 3:  районы\n"
     ]
    },
    {
     "name": "stdout",
     "output_type": "stream",
     "text": [
      "Пожалуйста, вводите только слова, состоящие из 5 букв!\n"
     ]
    },
    {
     "name": "stdin",
     "output_type": "stream",
     "text": [
      "Попытка 4:  район\n"
     ]
    },
    {
     "name": "stdout",
     "output_type": "stream",
     "text": [
      "🟩🟩🟥🟨🟨\n"
     ]
    },
    {
     "name": "stdin",
     "output_type": "stream",
     "text": [
      "Попытка 5:  боец\n"
     ]
    },
    {
     "name": "stdout",
     "output_type": "stream",
     "text": [
      "Пожалуйста, вводите только слова, состоящие из 5 букв!\n"
     ]
    },
    {
     "name": "stdin",
     "output_type": "stream",
     "text": [
      "Попытка 6:  поиск\n"
     ]
    },
    {
     "name": "stdout",
     "output_type": "stream",
     "text": [
      "🟥🟨🟥🟥🟥\n",
      "К сожалению, вы не угадали. Загаданное слово: ранчо\n"
     ]
    }
   ],
   "source": [
    "import random\n",
    "import pandas as pd\n",
    "\n",
    "df = pd.read_excel('data/df_5_letters.xlsx', index_col=0)\n",
    "\n",
    "# Список слов для игры\n",
    "words = list(df['Слово'])\n",
    "\n",
    "def get_random_word():\n",
    "    return random.choice(words)\n",
    "\n",
    "def get_feedback(guess, secret_word):\n",
    "    feedback = []\n",
    "    for i in range(len(guess)):\n",
    "        if guess[i] == secret_word[i]:\n",
    "            feedback.append(\"🟩\")  # Зеленый квадрат для правильной буквы на правильном месте\n",
    "        elif guess[i] in secret_word:\n",
    "            feedback.append(\"🟨\")  # Желтый квадрат для правильной буквы на неправильном месте\n",
    "        else:\n",
    "            feedback.append(\"🟥\")  # Красный квадрат для неправильной буквы\n",
    "    return ''.join(feedback)\n",
    "\n",
    "def wordle():\n",
    "    secret_word = get_random_word()\n",
    "    attempts = 6\n",
    "\n",
    "    print(\"Добро пожаловать в игру Wordle!\")\n",
    "    print(\"Угадайте слово из 5 букв (вы можете делать 6 попыток).\")\n",
    "\n",
    "    for attempt in range(attempts):\n",
    "        guess = input(f\"Попытка {attempt + 1}: \").strip().lower()\n",
    "\n",
    "        if len(guess) != 5:\n",
    "            print(\"Пожалуйста, вводите только слова, состоящие из 5 букв!\")\n",
    "            continue\n",
    "\n",
    "        if guess == secret_word:\n",
    "            print(f\"Поздравляем! Вы угадали слово: {secret_word}\")\n",
    "            break\n",
    "\n",
    "        feedback = get_feedback(guess, secret_word)\n",
    "        print(feedback)\n",
    "\n",
    "    else:\n",
    "        print(f\"К сожалению, вы не угадали. Загаданное слово: {secret_word}\")\n",
    "\n",
    "if __name__ == \"__main__\":\n",
    "    wordle()"
   ]
  },
  {
   "cell_type": "code",
   "execution_count": null,
   "id": "aa7c3730-e770-4245-a9b5-ef6c69801132",
   "metadata": {},
   "outputs": [],
   "source": []
  }
 ],
 "metadata": {
  "kernelspec": {
   "display_name": "Python 3 (ipykernel)",
   "language": "python",
   "name": "python3"
  },
  "language_info": {
   "codemirror_mode": {
    "name": "ipython",
    "version": 3
   },
   "file_extension": ".py",
   "mimetype": "text/x-python",
   "name": "python",
   "nbconvert_exporter": "python",
   "pygments_lexer": "ipython3",
   "version": "3.12.0"
  }
 },
 "nbformat": 4,
 "nbformat_minor": 5
}
